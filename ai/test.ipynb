{
 "cells": [
  {
   "cell_type": "code",
   "execution_count": 1,
   "metadata": {},
   "outputs": [
    {
     "name": "stdout",
     "output_type": "stream",
     "text": [
      "Meerdere verpleegkundigen zorgden voor patiënt 12345 op dezelfde dag\n",
      "Te korte tussenpozen tussen bezoeken aan patiënt 12345\n",
      "Te korte tussenpozen tussen bezoeken aan patiënt 12345\n"
     ]
    }
   ],
   "source": [
    "import pandas as pd\n",
    "from datetime import datetime\n",
    "\n",
    "# Laad de dataset\n",
    "data = pd.read_csv('./healthcare_data.csv')\n",
    "\n",
    "# Functie om anomalieën te detecteren\n",
    "def detect_anomalies(df):\n",
    "    anomalies = []\n",
    "\n",
    "    # Controleer op afwijkende scanmethoden\n",
    "    for i, row in df.iterrows():\n",
    "        if row['scan_method'] != 'eID' and row['timestamp'].weekday() in [5, 6]:\n",
    "            anomalies.append(f\"Anomalie in scanmethode voor patiënt {row['patient_id']} op {row['timestamp']}\")\n",
    "\n",
    "    # Controleer op zorg door meerdere verpleegkundigen op dezelfde dag\n",
    "    for patient_id, group in df.groupby('patient_id'):\n",
    "        if group['timestamp'].dt.date.nunique() > 1:\n",
    "            anomalies.append(f\"Meerdere verpleegkundigen zorgden voor patiënt {patient_id} op dezelfde dag\")\n",
    "\n",
    "    # Controleer op verdachte uren\n",
    "    for i, row in df.iterrows():\n",
    "        hour = row['timestamp'].hour\n",
    "        if hour < 6 or hour > 22:\n",
    "            anomalies.append(f\"Verdachte uur voor bezoek aan patiënt {row['patient_id']} door verpleegkundige {row['nurse_id']}\")\n",
    "\n",
    "    # Controleer op te korte tussenpozen tussen bezoeken\n",
    "    for patient_id, group in df.groupby('patient_id'):\n",
    "        times = group['timestamp'].sort_values()\n",
    "        for i in range(1, len(times)):\n",
    "            if (times.iloc[i] - times.iloc[i-1]).total_seconds() < 2.5 * 3600:\n",
    "                anomalies.append(f\"Te korte tussenpozen tussen bezoeken aan patiënt {patient_id}\")\n",
    "\n",
    "    return anomalies\n",
    "\n",
    "# Converteer timestamps naar datetime\n",
    "data['timestamp'] = pd.to_datetime(data['timestamp'])\n",
    "\n",
    "# Detecteer anomalieën\n",
    "anomalies = detect_anomalies(data)\n",
    "\n",
    "# Print de resultaten\n",
    "for anomaly in anomalies:\n",
    "    print(anomaly)\n"
   ]
  }
 ],
 "metadata": {
  "kernelspec": {
   "display_name": "base",
   "language": "python",
   "name": "python3"
  },
  "language_info": {
   "codemirror_mode": {
    "name": "ipython",
    "version": 3
   },
   "file_extension": ".py",
   "mimetype": "text/x-python",
   "name": "python",
   "nbconvert_exporter": "python",
   "pygments_lexer": "ipython3",
   "version": "3.11.7"
  }
 },
 "nbformat": 4,
 "nbformat_minor": 2
}
